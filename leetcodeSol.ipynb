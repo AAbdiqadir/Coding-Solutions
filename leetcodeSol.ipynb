{
 "cells": [
  {
   "cell_type": "code",
   "execution_count": 1,
   "id": "945ce1c3",
   "metadata": {
    "scrolled": true
   },
   "outputs": [
    {
     "name": "stdout",
     "output_type": "stream",
     "text": [
      "6\n",
      "\n"
     ]
    }
   ],
   "source": [
    "#647. Palindromic Substrings\n",
    "class Solution(object):\n",
    "    \n",
    "    def countSubstrings(self, s):\n",
    "\n",
    "        count=0\n",
    "        for i,l in enumerate(s):\n",
    "           \n",
    "            len1 = self.findtotalsubstrings(s, i , i)\n",
    "            len2 = self.findtotalsubstrings(s, i , i+1)\n",
    "            \n",
    "            \n",
    "            count +=len1\n",
    "            count+=len2\n",
    "        \n",
    "        print(count)\n",
    "            \n",
    "            \n",
    "            \n",
    "        return \"\"\n",
    "    def findtotalsubstrings(self, s, left, right):\n",
    "        \n",
    "        if not s or left > right:\n",
    "            return \"\"\n",
    "        \n",
    "       \n",
    "       \n",
    "        count=0    \n",
    "        while left >=0 and right< len(s) and s[left] == s[right]:\n",
    "            count+=1\n",
    "            left-=1\n",
    "            right+=1\n",
    "            \n",
    "       \n",
    "            \n",
    "        return count\n",
    "        \n",
    "myname = Solution()\n",
    "\n",
    "print(myname.countSubstrings(\"aaa\"))\n",
    "        \n",
    "        "
   ]
  },
  {
   "cell_type": "code",
   "execution_count": null,
   "id": "adbf7ef1",
   "metadata": {},
   "outputs": [],
   "source": []
  },
  {
   "cell_type": "code",
   "execution_count": 29,
   "id": "aef67e70",
   "metadata": {},
   "outputs": [
    {
     "name": "stdout",
     "output_type": "stream",
     "text": [
      "49\n"
     ]
    }
   ],
   "source": [
    "# Container With Most Water\n",
    "class Solution(object):\n",
    "    def maxArea(self, height):\n",
    "        \n",
    "        left = 0\n",
    "        right = len(height)-1\n",
    "        max_ =0\n",
    "        while left <right:\n",
    "            \n",
    "            width = right - left\n",
    "            current_h = min(height[left], height[right])\n",
    "            \n",
    "            area = width* current_h\n",
    "            \n",
    "            max_ = max(area, max_)\n",
    "            \n",
    "            \n",
    "            if height[left]< height[right]:\n",
    "                left+=1\n",
    "            else:\n",
    "                right-=1\n",
    "                \n",
    "\n",
    "            \n",
    "            \n",
    "       \n",
    "        return max_    \n",
    "height  = [1,8,6,2,5,4,8,3,7]       \n",
    "tot = Solution()\n",
    "\n",
    "print(tot.maxArea(height))"
   ]
  },
  {
   "cell_type": "code",
   "execution_count": null,
   "id": "b9d4d5c8",
   "metadata": {},
   "outputs": [],
   "source": []
  },
  {
   "cell_type": "code",
   "execution_count": 4,
   "id": "bf04942f",
   "metadata": {},
   "outputs": [],
   "source": [
    "#139. Word Break\n",
    "class Solution(object):\n",
    "    def wordBreak(self, s, wordDict):\n",
    "        dp = [False] * (len(s)+1)\n",
    "        dp[len(s)] =True\n",
    "\n",
    "\n",
    "\n",
    "        for i in range(len(s)-1,-1,-1):\n",
    "            print(i)\n",
    "\n",
    "            for w in wordDict:\n",
    "\n",
    "                if(i + len(w) <= len(s) and s[i: i+len(w)] == w):\n",
    "                  \n",
    "\n",
    "\n",
    "                  dp[i] = dp[i+len(w)]\n",
    "                if dp[i]:\n",
    "                    break\n",
    "                    \n",
    "        return dp[0]\n",
    "\n",
    "\n"
   ]
  },
  {
   "cell_type": "code",
   "execution_count": null,
   "id": "3996a847",
   "metadata": {},
   "outputs": [],
   "source": []
  },
  {
   "cell_type": "code",
   "execution_count": 2,
   "id": "d2766586",
   "metadata": {},
   "outputs": [
    {
     "name": "stdout",
     "output_type": "stream",
     "text": [
      "2 3\n",
      "3 2\n",
      "4 4\n",
      "True\n"
     ]
    }
   ],
   "source": [
    "#141. Linked List Cycle\n",
    "class Node:\n",
    "    def __init__(self, data):\n",
    "        # Initialize a new node with data and next pointer\n",
    "        self.data = data\n",
    "        self.next = None\n",
    "    \n",
    "class LinkedList:\n",
    "    def __init__(self, head = None):  \n",
    "      self.head = head\n",
    "      \n",
    "    def insert(self ,data):\n",
    "        new_node = Node(data)\n",
    "        if self.head:\n",
    "            current = self.head\n",
    "            while current.next:\n",
    "                current = current.next\n",
    "                \n",
    "            current.next = new_node\n",
    "        else:\n",
    "            self.head = new_node\n",
    "    def printLL(self):\n",
    "        \n",
    "        current = self.head\n",
    "        \n",
    "        while current:\n",
    "            print(current.data)\n",
    "\n",
    "            current = current.next\n",
    "            \n",
    "    def hascycle(self):\n",
    "        \n",
    "        \n",
    "        \n",
    "        fast= self.head\n",
    "        slow = self.head\n",
    "        \n",
    "        while fast and fast.next:\n",
    "            \n",
    "           \n",
    "            fast= fast.next.next\n",
    "            \n",
    "            slow = slow.next\n",
    "            \n",
    "            print(slow.data,fast.data)\n",
    "            if slow == fast:\n",
    "                \n",
    "                return True\n",
    "       \n",
    "        return False \n",
    "            \n",
    "\n",
    "l1 = LinkedList()\n",
    "l1.insert(1)\n",
    "l1.insert(2)\n",
    "l1.insert(3)\n",
    "l1.insert(4)\n",
    "\n",
    "l1.head.next.next.next.next = l1.head.next\n",
    "print(l1.hascycle())"
   ]
  },
  {
   "cell_type": "code",
   "execution_count": null,
   "id": "b8c61e0b",
   "metadata": {},
   "outputs": [],
   "source": []
  },
  {
   "cell_type": "code",
   "execution_count": 2,
   "id": "382348b0",
   "metadata": {},
   "outputs": [],
   "source": [
    "#268. Missing Number\n",
    "class Solution(object):\n",
    "    def missingNumber(self, nums):\n",
    "        mis = 0\n",
    "\n",
    "        for i in range(len(nums)+1):\n",
    "            if i not in nums:\n",
    "                mis = i\n",
    "        \n",
    "        return mis"
   ]
  },
  {
   "cell_type": "code",
   "execution_count": null,
   "id": "33779769",
   "metadata": {},
   "outputs": [],
   "source": []
  },
  {
   "cell_type": "code",
   "execution_count": 7,
   "id": "06739f51",
   "metadata": {},
   "outputs": [
    {
     "name": "stdout",
     "output_type": "stream",
     "text": [
      "[[2, 2, 3], [7]]\n"
     ]
    }
   ],
   "source": [
    "class Solution(object):\n",
    "    def combinationSum(self, candidates, target): \n",
    "        result = []\n",
    "        \n",
    "        def dfs(i, current, total):\n",
    "            if total == target:\n",
    "                result.append(current.copy())\n",
    "                return\n",
    "            if i == len(candidates) or total > target:\n",
    "                return\n",
    "            \n",
    "            current.append(candidates[i])\n",
    "            \n",
    "            \n",
    "            \n",
    "            dfs(i, current, total +  candidates[i])\n",
    "            \n",
    "            current.pop()\n",
    "           \n",
    "            dfs(i + 1, current, total)     \n",
    "            \n",
    "        dfs(0, [], 0)\n",
    "        \n",
    "        return result\n",
    "    \n",
    "Sl = Solution()\n",
    "\n",
    "list_ = [2,3,6,7]\n",
    "\n",
    "print(Sl.combinationSum(list_, 7))"
   ]
  },
  {
   "cell_type": "code",
   "execution_count": null,
   "id": "ec19fe91",
   "metadata": {},
   "outputs": [],
   "source": []
  }
 ],
 "metadata": {
  "kernelspec": {
   "display_name": "Python 3 (ipykernel)",
   "language": "python",
   "name": "python3"
  },
  "language_info": {
   "codemirror_mode": {
    "name": "ipython",
    "version": 3
   },
   "file_extension": ".py",
   "mimetype": "text/x-python",
   "name": "python",
   "nbconvert_exporter": "python",
   "pygments_lexer": "ipython3",
   "version": "3.11.5"
  }
 },
 "nbformat": 4,
 "nbformat_minor": 5
}
